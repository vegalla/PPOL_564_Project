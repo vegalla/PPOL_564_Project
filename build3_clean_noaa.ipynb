{
 "cells": [
  {
   "cell_type": "markdown",
   "metadata": {},
   "source": [
    "# Clean NOAA - Precipitation Data\n",
    "\n",
    "## Purpose:\n",
    "* Clean NOAA data\n",
    "* Aggregate to FIPS code (county level)\n",
    "\n",
    "## Dependencies"
   ]
  },
  {
   "cell_type": "code",
   "execution_count": 1,
   "metadata": {},
   "outputs": [],
   "source": [
    "import pandas as pd\n",
    "import numpy as np"
   ]
  },
  {
   "cell_type": "code",
   "execution_count": 2,
   "metadata": {},
   "outputs": [
    {
     "data": {
      "text/html": [
       "<div>\n",
       "<style scoped>\n",
       "    .dataframe tbody tr th:only-of-type {\n",
       "        vertical-align: middle;\n",
       "    }\n",
       "\n",
       "    .dataframe tbody tr th {\n",
       "        vertical-align: top;\n",
       "    }\n",
       "\n",
       "    .dataframe thead th {\n",
       "        text-align: right;\n",
       "    }\n",
       "</style>\n",
       "<table border=\"1\" class=\"dataframe\">\n",
       "  <thead>\n",
       "    <tr style=\"text-align: right;\">\n",
       "      <th></th>\n",
       "      <th>STATION</th>\n",
       "      <th>NAME</th>\n",
       "      <th>LATITUDE</th>\n",
       "      <th>LONGITUDE</th>\n",
       "      <th>ELEVATION</th>\n",
       "      <th>DATE</th>\n",
       "      <th>DAPR</th>\n",
       "      <th>MDPR</th>\n",
       "      <th>PRCP</th>\n",
       "      <th>SNOW</th>\n",
       "      <th>SNWD</th>\n",
       "      <th>FIPS</th>\n",
       "      <th>COUNTY</th>\n",
       "    </tr>\n",
       "  </thead>\n",
       "  <tbody>\n",
       "    <tr>\n",
       "      <th>0</th>\n",
       "      <td>US1VAYR0007</td>\n",
       "      <td>WILLIAMSBURG 4.4 N, VA US</td>\n",
       "      <td>37.333237</td>\n",
       "      <td>-76.712631</td>\n",
       "      <td>24.1</td>\n",
       "      <td>3/18/2020</td>\n",
       "      <td>5.0</td>\n",
       "      <td>0.0</td>\n",
       "      <td>NaN</td>\n",
       "      <td>NaN</td>\n",
       "      <td>NaN</td>\n",
       "      <td>51830</td>\n",
       "      <td>Williamsburg County</td>\n",
       "    </tr>\n",
       "    <tr>\n",
       "      <th>1</th>\n",
       "      <td>US1VAYR0007</td>\n",
       "      <td>WILLIAMSBURG 4.4 N, VA US</td>\n",
       "      <td>37.333237</td>\n",
       "      <td>-76.712631</td>\n",
       "      <td>24.1</td>\n",
       "      <td>3/19/2020</td>\n",
       "      <td>NaN</td>\n",
       "      <td>NaN</td>\n",
       "      <td>0.40</td>\n",
       "      <td>NaN</td>\n",
       "      <td>NaN</td>\n",
       "      <td>51830</td>\n",
       "      <td>Williamsburg County</td>\n",
       "    </tr>\n",
       "    <tr>\n",
       "      <th>2</th>\n",
       "      <td>US1VAYR0007</td>\n",
       "      <td>WILLIAMSBURG 4.4 N, VA US</td>\n",
       "      <td>37.333237</td>\n",
       "      <td>-76.712631</td>\n",
       "      <td>24.1</td>\n",
       "      <td>3/20/2020</td>\n",
       "      <td>NaN</td>\n",
       "      <td>NaN</td>\n",
       "      <td>0.00</td>\n",
       "      <td>0.0</td>\n",
       "      <td>NaN</td>\n",
       "      <td>51830</td>\n",
       "      <td>Williamsburg County</td>\n",
       "    </tr>\n",
       "    <tr>\n",
       "      <th>3</th>\n",
       "      <td>US1VAYR0007</td>\n",
       "      <td>WILLIAMSBURG 4.4 N, VA US</td>\n",
       "      <td>37.333237</td>\n",
       "      <td>-76.712631</td>\n",
       "      <td>24.1</td>\n",
       "      <td>3/21/2020</td>\n",
       "      <td>NaN</td>\n",
       "      <td>NaN</td>\n",
       "      <td>0.18</td>\n",
       "      <td>NaN</td>\n",
       "      <td>NaN</td>\n",
       "      <td>51830</td>\n",
       "      <td>Williamsburg County</td>\n",
       "    </tr>\n",
       "    <tr>\n",
       "      <th>4</th>\n",
       "      <td>US1VAYR0007</td>\n",
       "      <td>WILLIAMSBURG 4.4 N, VA US</td>\n",
       "      <td>37.333237</td>\n",
       "      <td>-76.712631</td>\n",
       "      <td>24.1</td>\n",
       "      <td>3/22/2020</td>\n",
       "      <td>NaN</td>\n",
       "      <td>NaN</td>\n",
       "      <td>0.00</td>\n",
       "      <td>0.0</td>\n",
       "      <td>NaN</td>\n",
       "      <td>51830</td>\n",
       "      <td>Williamsburg County</td>\n",
       "    </tr>\n",
       "  </tbody>\n",
       "</table>\n",
       "</div>"
      ],
      "text/plain": [
       "       STATION                       NAME   LATITUDE  LONGITUDE  ELEVATION  \\\n",
       "0  US1VAYR0007  WILLIAMSBURG 4.4 N, VA US  37.333237 -76.712631       24.1   \n",
       "1  US1VAYR0007  WILLIAMSBURG 4.4 N, VA US  37.333237 -76.712631       24.1   \n",
       "2  US1VAYR0007  WILLIAMSBURG 4.4 N, VA US  37.333237 -76.712631       24.1   \n",
       "3  US1VAYR0007  WILLIAMSBURG 4.4 N, VA US  37.333237 -76.712631       24.1   \n",
       "4  US1VAYR0007  WILLIAMSBURG 4.4 N, VA US  37.333237 -76.712631       24.1   \n",
       "\n",
       "        DATE  DAPR  MDPR  PRCP  SNOW  SNWD   FIPS               COUNTY  \n",
       "0  3/18/2020   5.0   0.0   NaN   NaN   NaN  51830  Williamsburg County  \n",
       "1  3/19/2020   NaN   NaN  0.40   NaN   NaN  51830  Williamsburg County  \n",
       "2  3/20/2020   NaN   NaN  0.00   0.0   NaN  51830  Williamsburg County  \n",
       "3  3/21/2020   NaN   NaN  0.18   NaN   NaN  51830  Williamsburg County  \n",
       "4  3/22/2020   NaN   NaN  0.00   0.0   NaN  51830  Williamsburg County  "
      ]
     },
     "execution_count": 2,
     "metadata": {},
     "output_type": "execute_result"
    }
   ],
   "source": [
    "## Load in NOAA data\n",
    "noaa0 = pd.read_csv(\"data/raw/2370299.csv\")\n",
    "\n",
    "noaa0.head()"
   ]
  },
  {
   "cell_type": "code",
   "execution_count": 3,
   "metadata": {},
   "outputs": [
    {
     "data": {
      "text/plain": [
       "578"
      ]
     },
     "execution_count": 3,
     "metadata": {},
     "output_type": "execute_result"
    }
   ],
   "source": [
    "## Check missing data of precipitation\n",
    "sum(noaa0['PRCP'].isna())"
   ]
  },
  {
   "cell_type": "code",
   "execution_count": 4,
   "metadata": {},
   "outputs": [
    {
     "name": "stdout",
     "output_type": "stream",
     "text": [
      "2020-03-17 00:00:00 2020-11-23 00:00:00\n"
     ]
    }
   ],
   "source": [
    "## Convert DATE to datetime object\n",
    "noaa0['DATE'] = pd.to_datetime(noaa0['DATE'])\n",
    "    \n",
    "## Check min/max\n",
    "print(\n",
    "min(noaa0['DATE']),\n",
    "max(noaa0['DATE'])\n",
    ")"
   ]
  },
  {
   "cell_type": "code",
   "execution_count": 5,
   "metadata": {},
   "outputs": [
    {
     "data": {
      "text/html": [
       "<div>\n",
       "<style scoped>\n",
       "    .dataframe tbody tr th:only-of-type {\n",
       "        vertical-align: middle;\n",
       "    }\n",
       "\n",
       "    .dataframe tbody tr th {\n",
       "        vertical-align: top;\n",
       "    }\n",
       "\n",
       "    .dataframe thead th {\n",
       "        text-align: right;\n",
       "    }\n",
       "</style>\n",
       "<table border=\"1\" class=\"dataframe\">\n",
       "  <thead>\n",
       "    <tr style=\"text-align: right;\">\n",
       "      <th></th>\n",
       "      <th></th>\n",
       "      <th></th>\n",
       "      <th>PRCP</th>\n",
       "    </tr>\n",
       "    <tr>\n",
       "      <th>COUNTY</th>\n",
       "      <th>FIPS</th>\n",
       "      <th>DATE</th>\n",
       "      <th></th>\n",
       "    </tr>\n",
       "  </thead>\n",
       "  <tbody>\n",
       "    <tr>\n",
       "      <th rowspan=\"5\" valign=\"top\">Amelia County</th>\n",
       "      <th rowspan=\"5\" valign=\"top\">51007</th>\n",
       "      <th>2020-03-17</th>\n",
       "      <td>0.000</td>\n",
       "    </tr>\n",
       "    <tr>\n",
       "      <th>2020-03-18</th>\n",
       "      <td>0.000</td>\n",
       "    </tr>\n",
       "    <tr>\n",
       "      <th>2020-03-19</th>\n",
       "      <td>0.095</td>\n",
       "    </tr>\n",
       "    <tr>\n",
       "      <th>2020-03-20</th>\n",
       "      <td>0.000</td>\n",
       "    </tr>\n",
       "    <tr>\n",
       "      <th>2020-03-21</th>\n",
       "      <td>0.145</td>\n",
       "    </tr>\n",
       "  </tbody>\n",
       "</table>\n",
       "</div>"
      ],
      "text/plain": [
       "                                 PRCP\n",
       "COUNTY        FIPS  DATE             \n",
       "Amelia County 51007 2020-03-17  0.000\n",
       "                    2020-03-18  0.000\n",
       "                    2020-03-19  0.095\n",
       "                    2020-03-20  0.000\n",
       "                    2020-03-21  0.145"
      ]
     },
     "execution_count": 5,
     "metadata": {},
     "output_type": "execute_result"
    }
   ],
   "source": [
    "## Aggregate to county instead of weather station level\n",
    "noaa1 = pd.pivot_table(noaa0, values= \"PRCP\", index= [\"COUNTY\",\"FIPS\",\"DATE\"], aggfunc= np.mean)\n",
    "\n",
    "noaa1.head()"
   ]
  },
  {
   "cell_type": "code",
   "execution_count": 6,
   "metadata": {},
   "outputs": [],
   "source": [
    "noaa1.to_csv(\"data/build/build3_precipitation.csv\")"
   ]
  }
 ],
 "metadata": {
  "kernelspec": {
   "display_name": "Python 3",
   "language": "python",
   "name": "python3"
  },
  "language_info": {
   "codemirror_mode": {
    "name": "ipython",
    "version": 3
   },
   "file_extension": ".py",
   "mimetype": "text/x-python",
   "name": "python",
   "nbconvert_exporter": "python",
   "pygments_lexer": "ipython3",
   "version": "3.8.5"
  }
 },
 "nbformat": 4,
 "nbformat_minor": 4
}
